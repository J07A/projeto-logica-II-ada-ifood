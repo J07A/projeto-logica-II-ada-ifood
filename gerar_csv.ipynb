{
 "cells": [
  {
   "cell_type": "code",
   "execution_count": null,
   "metadata": {},
   "outputs": [],
   "source": [
    "# Função para gerar arquivo CSV das estatísticas\n",
    "def gerar_csv(estatisticas):\n",
    "    # Verificar se o arquivo CSV já existe\n",
    "    try:\n",
    "        with open('estatisticas.csv', 'r', newline='', encoding='utf-8') as csvfile:\n",
    "            reader = csv.reader(csvfile)\n",
    "            headers = next(reader)  # Lê os cabeçalhos, se existirem\n",
    "            arquivo_existente = True\n",
    "    except FileNotFoundError:\n",
    "        arquivo_existente = False\n",
    "\n",
    "    # Adicionar dados ao arquivo CSV\n",
    "    with open('estatisticas.csv', 'a', newline='', encoding='utf-8') as csvfile:\n",
    "        fieldnames = [\n",
    "            \"pessoas_f\",\n",
    "            \"pessoas_m\",\n",
    "            \"max_salario_nome\",\n",
    "            \"max_salario\",\n",
    "            \"min_salario_nome\",\n",
    "            \"min_salario\",\n",
    "            \"media_altura\",\n",
    "            \"media_salario\"\n",
    "        ]\n",
    "\n",
    "        writer = csv.DictWriter(csvfile, fieldnames=fieldnames)\n",
    "\n",
    "        # Se o arquivo não existir, escreva os cabeçalhos\n",
    "        if not arquivo_existente:\n",
    "            writer.writeheader()\n",
    "\n",
    "        # Escreva os dados\n",
    "        writer.writerow(estatisticas)"
   ]
  }
 ],
 "metadata": {
  "language_info": {
   "name": "python"
  }
 },
 "nbformat": 4,
 "nbformat_minor": 2
}
