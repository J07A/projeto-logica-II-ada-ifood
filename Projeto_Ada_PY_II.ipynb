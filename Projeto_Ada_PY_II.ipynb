{
  "cells": [
    {
      "cell_type": "markdown",
      "metadata": {
        "id": "xHCs-syvZy4l"
      },
      "source": [
        "* Ler uma lista de objetos de um JSON✓;\n",
        "\n",
        "* Realizar um mapeamento, um filtro e uma redução✓;\n",
        "\n",
        "* Permitir que os dados possam ser lidos individualmente, atualizados e deletados (manter JSON atualizado);\n",
        "\n",
        "* Garantir que todas as operações tenham validações (try-except, raise);\n",
        "\n",
        "* Obter algum dado estatístico simples, como média de um grupo (exemplo, a média de idade dos professores que dão aula de exatas, caso o conjunto de dados seja do tema professores)✓;\n",
        "\n",
        "* Criar uma função para obter uma lista de tuplas, com o máximo (ou o mínimo) valor de algum atributo numérico, com o primeira posição contendo o nome do elemento e a segunda o valor máximo (o motivo de ser lista é porque pode ter mais de um elemento com valor máximo);✓\n",
        "\n",
        " * Esta função deve ter um parâmetro opcional, que diz qual das estatísticas você deseja obter (mínimo ou máximo);✓\n",
        "\n",
        "* Obter algum dado estatístico simples, como média, máximo e mínimo (exemplo, a média de idade dos professores que dão aula de exatas, caso o conjunto de dados seja do tema professores);✓\n",
        "\n",
        "* Salvar dados estatísticos em um CSV✓."
      ]
    },
    {
      "cell_type": "code",
      "execution_count": null,
      "metadata": {
        "id": "1XX7JARFZdwI"
      },
      "outputs": [],
      "source": [
        "# Ler uma lista de objetos de um JSON\n",
        "\n",
        "import csv\n",
        "import json\n",
        "from functools import reduce\n",
        "\n",
        "#A palavra reservada 'with' coloca a abertura e fechamento (subtenbtendido) dentro de um contexto\n",
        "with open('/content/coffee_dataset.json', 'r', encoding='utf-8-sig') as file:\n",
        "    data = json.load(file)\n"
      ]
    },
    {
      "cell_type": "markdown",
      "metadata": {
        "id": "3W64OBplTLLG"
      },
      "source": [
        "Estrutira dos dados\n",
        "```JSON file\n",
        "{'': '0',\n",
        "'ID': '0',\n",
        "'Country of Origin': 'Colombia',\n",
        "'Farm Name': 'Finca El Paraiso',\n",
        "'Lot Number': 'CQU2022015',\n",
        "'Mill': 'Finca El Paraiso',\n",
        "'ICO Number': '',\n",
        "'Company': 'Coffee Quality Union',\n",
        "'Altitude': '1700-1930', '\n",
        "Region': '\"Piendamo,Cauca\"',\n",
        "'Producer': 'Diego Samuel Bermudez',\n",
        "'Number of Bags': '1',\n",
        "'Bag Weight': '35 kg',\n",
        "'In-Country Partner': 'Japan Coffee Exchange',\n",
        "'Harvest Year': '2021 / 2022',\n",
        "'Grading Date': '\"September 21st, 2022\"',\n",
        "'Owner': 'Coffee Quality Union',\n",
        "'Variety': 'Castillo',\n",
        "'Status': 'Completed',\n",
        "'Processing Method': 'Double Anaerobic Washed',\n",
        "'Aroma': '8.58',\n",
        "'Flavor': '8.5',\n",
        "'Aftertaste': '8.42',\n",
        "'Acidity': '8.58',\n",
        "'Body': '8.25',\n",
        "'Balance': '8.42',\n",
        "'Uniformity': '10.0',\n",
        "'Clean Cup': '10.0',\n",
        "'Sweetness': '10.0',\n",
        "'Overall': '8.58',\n",
        "'Defects': '0.0',\n",
        "'Total Cup Points': '89.33',\n",
        "'Moisture Percentage': '11.8',\n",
        "'Category One Defects': '0',\n",
        "'Quakers': '0',\n",
        "'Color': 'green',\n",
        "'Category Two Defects': '3',\n",
        "'Expiration': '\"September 21st, 2023\"',\n",
        " 'Certification Body': 'Japan Coffee Exchange',\n",
        " 'Certification Address': '\"〒413-0002 静岡県熱海市伊豆山１１７３−５８ 1173-58 Izusan, Atami, Shizuoka, 413-0002 JAPAN\"',\n",
        " 'Certification Contact': '松澤\\u3000宏樹\\u3000Koju Matsuzawa - +81(0)9085642901'}\n",
        " ```"
      ]
    },
    {
      "cell_type": "markdown",
      "metadata": {
        "id": "ZP8tnglgzB5t"
      },
      "source": [
        "|Função | Uso     |\n",
        "|-------|---------|\n",
        "|**map**| util para aplicar uma função específica nos dados em JSON|\n",
        "|**filter**| util para pesquisas na base de dados|\n",
        "|**reduce**| util para sintetizar um grupo de valores em apenas um só, como somatória de bags, encontratr objetos com o menor/maior valor da série  |\n",
        "\n",
        "\n",
        "Encaixar as obrigatoriedades nessas funções especiais:\n",
        "\n",
        "> * Obter algum dado estatístico simples, como média de um grupo (exemplo, a média de idade dos professores que dão aula de exatas, caso o conjunto de dados seja do tema professores);\n",
        "\n",
        "> * Criar uma função para obter uma lista de tuplas, com o máximo (ou o mínimo) valor de algum atributo numérico, com o primeira posição contendo o nome do elemento e a segunda o valor máximo (o motivo de ser lista é porque pode ter mais de um elemento com valor máximo);\n",
        "\n",
        ">  _Esta função deve ter um parâmetro opcional, que diz qual das estatísticas você deseja obter (mínimo ou máximo);_\n",
        "\n",
        "> * Obter algum dado estatístico simples, como média, máximo e mínimo (exemplo, a média de idade dos professores que dão aula de exatas, caso o conjunto de dados seja do tema professores);\n",
        "\n"
      ]
    },
    {
      "cell_type": "markdown",
      "metadata": {
        "id": "vmVZKfiPS77f"
      },
      "source": []
    },
    {
      "cell_type": "code",
      "execution_count": null,
      "metadata": {
        "id": "thphipI6xgpZ"
      },
      "outputs": [],
      "source": [
        "#Funçoes de pesquisa (que não alteram a base, nem a reescreve)\n",
        "\n",
        "#essa função retorna com um id, uma media sensoral um id e um overall\n",
        "# def notas_sensoriais (dado) -> dict:\n",
        "#   #crio uma lista com os campos que quer extrair para a media\n",
        "#   campos_sensoriais = ['Aroma', 'Flavor', 'Aftertaste', 'Acidity', 'Body', 'Balance', 'Uniformity', 'Clean Cup', 'Sweetness']\n",
        "#   #a cada campo sensorial eu extraio uma nota\n",
        "#   notas_sensoriais = [float(dado[campo]) for campo in campos_sensoriais]\n",
        "#   #media das notas sensoriais coletadas pela compreensão de lista\n",
        "#   media_sensorial = sum(notas_sensoriais) / len(notas_sensoriais)\n",
        "#   #retona um dicionário com o ID, com a media das notas sensoriais e a nota geral da amostra\n",
        "#   return {'ID': dado['ID'], édia das notas sensoriais': round(media_sensorial, 2), 'Overall': dado['Overall']}\n",
        "\n",
        "#Realizar um map\n",
        "\n",
        "#aqui ele aplica a funçaõ de medias_sensoriais em todo o catãlogo, o loop for mostra cada amostra numa linha.\n",
        "# media_notas =list(map(notas_sensoriais , data))\n",
        "# for resultado in media_notas:\n",
        "#   print(resultado)\n",
        "\n",
        "#Realizar um filter\n",
        "\n",
        "#Aqui ele busca especificamente uma nota exata, para função podemos aplicar argumentos\n",
        "#filtrados = list(filter(lambda x: float(x['Overall']) >= 8, data))\n",
        "#for resultado in filtrados:\n",
        "#  print(f\"ID: {resultado['ID']}, Overall: {resultado['Overall']}\")\n",
        "\n",
        "\n",
        "# Função que calcula volume amostrado pela análise, multiplicando o numero de bags pelo peso\n",
        "\n",
        "def calcular_volume(data):\n",
        "   volume = reduce(lambda x, y: x + y['Number of Bags'] * y['Bag Weight'], data)\n",
        "   return volume\n",
        "\n",
        "# Função que verifica o volume minimo ou máximo de bags da amostragem\n",
        "def verifica_volume(data, operação='maximo') -> list of tuple:\n",
        "   if operacao == 'minimo':\n",
        "       valor_alvo = min(calcular_volume(x) for x in data)\n",
        "   elif operacao == 'maximo':\n",
        "       valor_alvo = max(calcular_volume(x) for x in data)\n",
        "   else:\n",
        "       print('''\n",
        "       \"Operação inválida! Digite 'minimo' para menores amostras em volume \n",
        "        ou \"máximo\" para maiores amostras em volume\"\n",
        "        '''\n",
        "       )\n",
        "   return [(x['ID'], calcular_volume(x), operacao) for x in data if calcular_volume(x) == valor_alvo]"
      ]
    },
    {
      "cell_type": "code",
      "execution_count": null,
      "metadata": {
        "id": "XxfBN8idHOpC"
      },
      "outputs": [],
      "source": [
        "#saida do arquivo em CSV\n",
        "\n",
        "# cria o arquivo CSV\n",
        "arquivo = open('/content/amostras.csv', 'w')\n",
        "\n",
        "# definindo as regras do nosso CSV:\n",
        "# ele será escrito no arquivo apontado pela variável 'arquivo'\n",
        "# seus elementos serão delimitados (delimiter) pelo símbolo ';'\n",
        "# suas linhas serão encerradas (lineterminator) por uma quebra de linha\n",
        "escritor = csv.writer(arquivo, delimiter=';', lineterminator='\\n')"
      ]
    }
  ],
  "metadata": {
    "colab": {
      "provenance": []
    },
    "kernelspec": {
      "display_name": "Python 3",
      "name": "python3"
    },
    "language_info": {
      "name": "python"
    }
  },
  "nbformat": 4,
  "nbformat_minor": 0
}
